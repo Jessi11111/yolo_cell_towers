{
  "cells": [
    {
      "cell_type": "markdown",
      "source": [
        "**name :Jessi King**\n",
        "**netid: xxz230009 **\n"
      ],
      "metadata": {
        "id": "UlJGVg9tJDD-"
      }
    },
    {
      "cell_type": "markdown",
      "source": [
        "**Verify NVIDIA GPU Availability**\n",
        "\n",
        "Make sure you're using a GPU-equipped machine by going to \"Runtime\" -> \"Change runtime type\" in the top menu bar, and then selecting one of the GPU options in the Hardware accelerator section. Click Play on the following code block to verify that the NVIDIA GPU is present and ready for training."
      ],
      "metadata": {
        "id": "3NW7LLv_QPOO"
      }
    },
    {
      "cell_type": "code",
      "source": [
        "!nvidia-smi"
      ],
      "metadata": {
        "id": "cfaWho47RGDf",
        "outputId": "88690137-5711-4f4b-c43e-4b1df5ae77fd",
        "colab": {
          "base_uri": "https://localhost:8080/"
        }
      },
      "execution_count": null,
      "outputs": [
        {
          "output_type": "stream",
          "name": "stdout",
          "text": [
            "Sun Apr  6 01:38:43 2025       \n",
            "+-----------------------------------------------------------------------------------------+\n",
            "| NVIDIA-SMI 550.54.15              Driver Version: 550.54.15      CUDA Version: 12.4     |\n",
            "|-----------------------------------------+------------------------+----------------------+\n",
            "| GPU  Name                 Persistence-M | Bus-Id          Disp.A | Volatile Uncorr. ECC |\n",
            "| Fan  Temp   Perf          Pwr:Usage/Cap |           Memory-Usage | GPU-Util  Compute M. |\n",
            "|                                         |                        |               MIG M. |\n",
            "|=========================================+========================+======================|\n",
            "|   0  Tesla T4                       Off |   00000000:00:04.0 Off |                    0 |\n",
            "| N/A   37C    P8              9W /   70W |       0MiB /  15360MiB |      0%      Default |\n",
            "|                                         |                        |                  N/A |\n",
            "+-----------------------------------------+------------------------+----------------------+\n",
            "                                                                                         \n",
            "+-----------------------------------------------------------------------------------------+\n",
            "| Processes:                                                                              |\n",
            "|  GPU   GI   CI        PID   Type   Process name                              GPU Memory |\n",
            "|        ID   ID                                                               Usage      |\n",
            "|=========================================================================================|\n",
            "|  No running processes found                                                             |\n",
            "+-----------------------------------------------------------------------------------------+\n"
          ]
        }
      ]
    },
    {
      "cell_type": "markdown",
      "metadata": {
        "id": "TIHu25pnjjJ1"
      },
      "source": [
        "#1.&nbsp;Gather and Label Training Images"
      ]
    },
    {
      "cell_type": "markdown",
      "metadata": {
        "id": "O6Y1vBiRjpcq"
      },
      "source": [
        "Before we start training, we need to gather and label images that will be used for training the object detection model. A good starting point for a proof-of-concept model is 200 images. The training images should have random objects in the image along with the desired objects, and should have a variety of backgrounds and lighting conditions.\n",
        "\n",
        "There are a couple options for gathering images:\n",
        "\n",
        "\n",
        "*   Build a custom dataset by taking your own pictures of the objects and labeling them (this typically results in the best performance)\n",
        "*   Find a pre-made dataset from sources like [Roboflow Universe](), [Kaggle](), or [Google Images V7]()\n",
        "\n",
        "\n",
        "If you want to build your own dataset, there are several tools available for labeling images. One good option is [Label Studio](https://labelstud.io/?utm_source=youtube&utm_medium=video&utm_campaign=edjeelectronics), a free and open-source labeling tool that has a simple workflow while providing capabilities for more advanced features. My YouTube video that walks through this notebook (link to be added soon) shows how to label images with Label Studio.\n",
        "\n",
        "\n",
        "If you used Label Studio to label and export the images, they'll be exported in a `project.zip` file that contains the following:\n",
        "\n",
        "- An `images` folder containing the images\n",
        "- A `labels` folder containing the labels in YOLO annotation format\n",
        "- A `classes.txt` labelmap file that contains all the classes\n",
        "- A `notes.json` file that contains info specific to Label Studio (this file can be ignored)\n",
        "\n",
        "If you obtained your dataset from another source (like Roboflow Universe) or used another tool to label your dataset, make sure the files are organized in the same folder structure.\n",
        "\n",
        "<p align=center>\n",
        "<img src=\"https://raw.githubusercontent.com/EdjeElectronics/Train-and-Deploy-YOLO-Models/refs/heads/main/doc/zipped-data-example.png\" height=\"\"><br>\n",
        "<i>Organize your data in the folders shown here. See my <a href=\"https://s3.us-west-1.amazonaws.com/evanjuras.com/resources/candy_data_06JAN25.zip\">Candy Detection Dataset</a> for an example.</i>\n",
        "</p>\n",
        "\n",
        "Once you've got your dataset built, put into the file structure shown above, and zipped into `data.zip`, you're ready to move on to the next step."
      ]
    },
    {
      "cell_type": "markdown",
      "metadata": {
        "id": "8eDhuvzDfIFS"
      },
      "source": [
        "# 2.&nbsp;Upload Image Dataset and Prepare Training Data"
      ]
    },
    {
      "cell_type": "markdown",
      "metadata": {
        "id": "ZW_0c110fOiz"
      },
      "source": [
        "Next, we'll upload our dataset and prepare it for training with YOLO. We'll split the dataset into train and validation folders, and we'll automatically generate the configuration file for training the model."
      ]
    },
    {
      "cell_type": "markdown",
      "source": [
        "## 2.1 Upload images\n",
        "\n",
        "First, we need to upload the dataset to Colab. Here are a few options for moving the `data.zip` folder into this Colab instance."
      ],
      "metadata": {
        "id": "FwKAqFIQSBpn"
      }
    },
    {
      "cell_type": "markdown",
      "source": [
        "\n",
        "**Copy from Google Drive**\n",
        "\n",
        "You can also upload your images to your personal Google Drive, mount the drive on this Colab session, and copy them over to the Colab filesystem. This option works well if you want to upload the images beforehand so you don't have to wait for them to upload each time you restart this Colab. If you have more than 50MB worth of images, I recommend using this option.\n",
        "\n",
        "First, upload the `data.zip` file to your Google Drive, and make note of the folder you uploaded them to. Replace `MyDrive/path/to/data.zip` with the path to your zip file. (For example, I uploaded the zip file to folder called \"candy-dataset1\", so I would use `MyDrive/candy-dataset1/data.zip` for the path). Then, run the following block of code to mount your Google Drive to this Colab session and copy the folder to this filesystem."
      ],
      "metadata": {
        "id": "TC4bZM1UWRdY"
      }
    },
    {
      "cell_type": "code",
      "source": [
        "from google.colab import drive\n",
        "drive.mount('/content/gdrive')\n",
        "\n",
        "!cp /content/custom_data.zip /content"
      ],
      "metadata": {
        "id": "ZfQBSwDdWoWp",
        "outputId": "2858b277-a198-440a-e371-4af009c608ea",
        "colab": {
          "base_uri": "https://localhost:8080/"
        }
      },
      "execution_count": null,
      "outputs": [
        {
          "output_type": "stream",
          "name": "stdout",
          "text": [
            "Mounted at /content/gdrive\n",
            "cp: '/content/custom_data.zip' and '/content/custom_data.zip' are the same file\n"
          ]
        }
      ]
    },
    {
      "cell_type": "markdown",
      "source": [
        "## 2.2 Split images into train and validation folders"
      ],
      "metadata": {
        "id": "m7Iz9eBzW5zm"
      }
    },
    {
      "cell_type": "markdown",
      "source": [
        "At this point, whether you used Option 1, 2, or 3, you should be able to click the folder icon on the left and see your `data.zip` file in the list of files. Next, we'll unzip `data.zip` and create some folders to hold the images. Run the following code block to unzip the data."
      ],
      "metadata": {
        "id": "58JuFGc2PatU"
      }
    },
    {
      "cell_type": "code",
      "execution_count": null,
      "metadata": {
        "id": "z8O6z-wVcPEF"
      },
      "outputs": [],
      "source": [
        "# Unzip images to a custom data folder\n",
        "!unzip -q /content/custom_data.zip -d /content/custom_data"
      ]
    },
    {
      "cell_type": "markdown",
      "source": [
        "split the data: randomly move 90% of dataset to the \"train\" folder and 10% to the \"validation\" folder."
      ],
      "metadata": {
        "id": "f2ohNAhWj41n"
      }
    },
    {
      "cell_type": "code",
      "source": [
        "import os\n",
        "import random\n",
        "import shutil\n",
        "\n",
        "# Set the base data directory\n",
        "data_dir = '/content/custom_data/custom_data'\n",
        "images_dir = os.path.join(data_dir, 'images')\n",
        "labels_dir = os.path.join(data_dir, 'label')\n",
        "class_file = os.path.join(data_dir, 'class.txt')\n",
        "\n",
        "# List all image files (filtering by common image extensions)\n",
        "image_files = sorted(os.listdir(images_dir))\n",
        "image_files = [f for f in image_files if f.lower().endswith(('.jpg', '.jpeg', '.png'))]\n",
        "\n",
        "# Randomly shuffle the list of images\n",
        "random.shuffle(image_files)\n",
        "\n",
        "# Split images into 90% train and 10% validation\n",
        "split_index = int(len(image_files) * 0.9)\n",
        "train_images = image_files[:split_index]\n",
        "val_images = image_files[split_index:]\n",
        "\n",
        "# Define output directories for train and validation sets\n",
        "train_dir = '/content/train'\n",
        "val_dir = '/content/val'\n",
        "\n",
        "train_images_dir = os.path.join(train_dir, 'images')\n",
        "train_labels_dir = os.path.join(train_dir, 'label')\n",
        "val_images_dir = os.path.join(val_dir, 'images')\n",
        "val_labels_dir = os.path.join(val_dir, 'label')\n",
        "\n",
        "# Create directories if they don't exist\n",
        "os.makedirs(train_images_dir, exist_ok=True)\n",
        "os.makedirs(train_labels_dir, exist_ok=True)\n",
        "os.makedirs(val_images_dir, exist_ok=True)\n",
        "os.makedirs(val_labels_dir, exist_ok=True)\n",
        "\n",
        "# Function to copy images and corresponding label files\n",
        "def copy_files(image_list, dest_images_dir, dest_labels_dir):\n",
        "    for image in image_list:\n",
        "        # Copy image file\n",
        "        src_image_path = os.path.join(images_dir, image)\n",
        "        dst_image_path = os.path.join(dest_images_dir, image)\n",
        "        shutil.copy(src_image_path, dst_image_path)\n",
        "\n",
        "        # Determine corresponding label file (assumes label file has same basename with .txt)\n",
        "        label_file = os.path.splitext(image)[0] + '.txt'\n",
        "        src_label_path = os.path.join(labels_dir, label_file)\n",
        "        if os.path.exists(src_label_path):\n",
        "            dst_label_path = os.path.join(dest_labels_dir, label_file)\n",
        "            shutil.copy(src_label_path, dst_label_path)\n",
        "\n",
        "# Copy training files\n",
        "copy_files(train_images, train_images_dir, train_labels_dir)\n",
        "# Copy validation files\n",
        "copy_files(val_images, val_images_dir, val_labels_dir)\n",
        "\n",
        "\n",
        "\n",
        "print(\"Data split complete!\")\n",
        "print(f\"Training set: {len(train_images)} images\")\n",
        "print(f\"Validation set: {len(val_images)} images\")\n"
      ],
      "metadata": {
        "colab": {
          "base_uri": "https://localhost:8080/"
        },
        "id": "LYhlLEqKrjux",
        "outputId": "0a749421-d85a-44a6-a772-efef527d4c3f"
      },
      "execution_count": null,
      "outputs": [
        {
          "output_type": "stream",
          "name": "stdout",
          "text": [
            "Data split complete!\n",
            "Training set: 106 images\n",
            "Validation set: 12 images\n"
          ]
        }
      ]
    },
    {
      "cell_type": "markdown",
      "source": [
        "Download our split data to my local"
      ],
      "metadata": {
        "id": "eiKs2S4svoUL"
      }
    },
    {
      "cell_type": "code",
      "source": [
        "!zip -r /content/train.zip /content/train\n",
        "!zip -r /content/val.zip /content/val\n"
      ],
      "metadata": {
        "colab": {
          "base_uri": "https://localhost:8080/"
        },
        "id": "E3sSq-V9s5yV",
        "outputId": "9724eb85-5843-402e-9b47-4cdd3c3a725d"
      },
      "execution_count": null,
      "outputs": [
        {
          "output_type": "stream",
          "name": "stdout",
          "text": [
            "  adding: content/train/ (stored 0%)\n",
            "  adding: content/train/label/ (stored 0%)\n",
            "  adding: content/train/images/ (stored 0%)\n",
            "  adding: content/train/images/Screenshot 2025-04-05 at 8.05.21 PM.png (deflated 0%)\n",
            "  adding: content/train/images/Screenshot 2025-04-05 at 8.52.24 PM.png (deflated 0%)\n",
            "  adding: content/train/images/Nesting-birds-750x465.png (deflated 0%)\n",
            "  adding: content/train/images/Screenshot 2025-04-05 at 8.16.07 PM.png (deflated 0%)\n",
            "  adding: content/train/images/Screenshot 2025-04-05 at 6.50.01 PM.png (deflated 0%)\n",
            "  adding: content/train/images/Screenshot 2025-04-05 at 6.52.27 PM.png (deflated 0%)\n",
            "  adding: content/train/images/Screenshot 2025-04-05 at 8.50.41 PM.png (deflated 0%)\n",
            "  adding: content/train/images/Screenshot 2025-04-05 at 7.18.35 PM.png (deflated 0%)\n",
            "  adding: content/train/images/Screenshot 2025-04-05 at 7.17.06 PM.png (deflated 0%)\n",
            "  adding: content/train/images/ATT-osprey-rescue-696x369.jpg (deflated 0%)\n",
            "  adding: content/train/images/Screenshot 2025-04-05 at 7.09.45 PM.png (deflated 0%)\n",
            "  adding: content/train/images/Screenshot 2025-04-05 at 8.46.07 PM.png (deflated 0%)\n",
            "  adding: content/train/images/istockphoto-1460469471-612x612.jpg (deflated 5%)\n",
            "  adding: content/train/images/Screenshot 2025-04-05 at 7.11.57 PM.png (deflated 0%)\n",
            "  adding: content/train/images/Cell-Tower-1-A.jpg (deflated 3%)\n",
            "  adding: content/train/images/white-storks-ciconia-nesting-on-a-cell-tower-ignoring-the-danger-of-radiation-2RBN4RT.jpg (deflated 1%)\n",
            "  adding: content/train/images/Screenshot 2025-04-05 at 8.47.16 PM.png (deflated 0%)\n",
            "  adding: content/train/images/Screenshot 2025-04-05 at 8.47.03 PM.png (deflated 0%)\n",
            "  adding: content/train/images/images.jpeg (deflated 1%)\n",
            "  adding: content/train/images/white-storks-ciconia-nesting-on-a-cell-tower-ignoring-the-danger-of-radiation-2RBN4T5.jpg (deflated 3%)\n",
            "  adding: content/train/images/Screenshot 2025-04-05 at 6.41.33 PM.png (deflated 0%)\n",
            "  adding: content/train/images/Screenshot 2025-04-05 at 7.17.32 PM.png (deflated 0%)\n",
            "  adding: content/train/images/istockphoto-1457378161-612x612.jpg (deflated 2%)\n",
            "  adding: content/train/images/Screenshot 2025-04-05 at 7.10.56 PM.png (deflated 0%)\n",
            "  adding: content/train/images/7054372577_22fb50db54_b.jpg (deflated 0%)\n",
            "  adding: content/train/images/descarga.jpeg (deflated 1%)\n",
            "  adding: content/train/images/Screenshot 2025-04-05 at 8.48.09 PM.png (deflated 0%)\n",
            "  adding: content/train/images/Screenshot 2025-04-05 at 7.01.26 PM.png (deflated 0%)\n",
            "  adding: content/train/images/Screenshot 2025-04-05 at 7.15.59 PM.png (deflated 0%)\n",
            "  adding: content/train/images/Screenshot 2025-04-05 at 6.41.42 PM.png (deflated 0%)\n",
            "  adding: content/train/images/Screenshot 2025-04-05 at 7.13.53 PM.png (deflated 0%)\n",
            "  adding: content/train/images/Screenshot 2025-04-05 at 6.51.29 PM.png (deflated 0%)\n",
            "  adding: content/train/images/Screenshot 2025-04-05 at 8.12.26 PM.png (deflated 0%)\n",
            "  adding: content/train/images/Screenshot 2025-04-05 at 7.20.12 PM.png (deflated 0%)\n",
            "  adding: content/train/images/Screenshot 2025-04-05 at 8.08.10 PM.png (deflated 0%)\n",
            "  adding: content/train/images/Screenshot 2025-04-05 at 8.07.16 PM.png (deflated 0%)\n",
            "  adding: content/train/images/Screenshot 2025-04-05 at 6.55.26 PM.png (deflated 0%)\n",
            "  adding: content/train/images/Screenshot 2025-04-05 at 8.47.41 PM.png (deflated 0%)\n",
            "  adding: content/train/images/istockphoto-1436672677-612x612.jpg (deflated 5%)\n",
            "  adding: content/train/images/Screenshot 2025-04-05 at 7.14.50 PM.png (deflated 0%)\n",
            "  adding: content/train/images/R2DTGFZ2INDHFDMAY2V5RDYPVE.jpg (deflated 0%)\n",
            "  adding: content/train/images/Screenshot 2025-04-05 at 8.45.43 PM.png (deflated 0%)\n",
            "  adding: content/train/images/Screenshot 2025-04-05 at 7.13.27 PM.png (deflated 0%)\n",
            "  adding: content/train/images/Screenshot 2025-04-05 at 7.04.31 PM.png (deflated 0%)\n",
            "  adding: content/train/images/Screenshot 2025-04-05 at 6.53.43 PM.png (deflated 0%)\n",
            "  adding: content/train/images/Screenshot 2025-04-05 at 6.40.06 PM.png (deflated 0%)\n",
            "  adding: content/train/images/Screenshot 2025-04-05 at 6.49.04 PM.png (deflated 0%)\n",
            "  adding: content/train/images/Screenshot 2025-04-05 at 6.45.13 PM.png (deflated 0%)\n",
            "  adding: content/train/images/Screenshot 2025-04-05 at 8.06.53 PM.png (deflated 0%)\n",
            "  adding: content/train/images/Screenshot 2025-04-05 at 8.45.56 PM.png (deflated 0%)\n",
            "  adding: content/train/images/Screenshot 2025-04-05 at 6.40.41 PM.png (deflated 0%)\n",
            "  adding: content/train/images/Screenshot 2025-04-05 at 8.04.12 PM.png (deflated 0%)\n",
            "  adding: content/train/images/Screenshot 2025-04-05 at 6.52.58 PM.png (deflated 0%)\n",
            "  adding: content/train/images/Screenshot 2025-04-05 at 7.20.30 PM.png (deflated 0%)\n",
            "  adding: content/train/images/Screenshot 2025-04-05 at 7.01.52 PM.png (deflated 0%)\n",
            "  adding: content/train/images/Screenshot 2025-04-05 at 6.52.10 PM.png (deflated 0%)\n",
            "  adding: content/train/images/41748bainbridgeosprey.main_.jpg (deflated 0%)\n",
            "  adding: content/train/images/Screenshot 2025-04-05 at 8.07.32 PM.png (deflated 0%)\n",
            "  adding: content/train/images/Screenshot 2025-04-05 at 8.50.26 PM.png (deflated 0%)\n",
            "  adding: content/train/images/Screenshot 2025-04-05 at 8.48.24 PM.png (deflated 0%)\n",
            "  adding: content/train/images/photo-1646165627558-61738236ffe7.jpeg (deflated 1%)\n",
            "  adding: content/train/images/Screenshot 2025-04-05 at 7.11.32 PM.png (deflated 0%)\n",
            "  adding: content/train/images/Screenshot 2025-04-05 at 7.14.29 PM.png (deflated 0%)\n",
            "  adding: content/train/images/istockphoto-2178691372-612x612.jpg (deflated 4%)\n",
            "  adding: content/train/images/Screenshot 2025-04-05 at 6.55.43 PM.png (deflated 0%)\n",
            "  adding: content/train/images/istockphoto-2178691370-612x612.jpg (deflated 2%)\n",
            "  adding: content/train/images/Screenshot 2025-04-05 at 7.01.09 PM.png (deflated 0%)\n",
            "  adding: content/train/images/Screenshot 2025-04-05 at 7.01.38 PM.png (deflated 0%)\n",
            "  adding: content/train/images/cell.png (deflated 0%)\n",
            "  adding: content/train/images/Screenshot 2025-04-05 at 7.15.05 PM.png (deflated 0%)\n",
            "  adding: content/train/images/Screenshot 2025-04-05 at 8.48.34 PM.png (deflated 0%)\n",
            "  adding: content/train/images/Screenshot 2025-04-05 at 6.49.23 PM.png (deflated 0%)\n",
            "  adding: content/train/images/Screenshot 2025-04-05 at 6.41.06 PM.png (deflated 0%)\n",
            "  adding: content/train/images/Screenshot 2025-04-05 at 8.10.36 PM.png (deflated 0%)\n",
            "  adding: content/train/images/Screenshot 2025-04-05 at 6.49.39 PM.png (deflated 0%)\n",
            "  adding: content/train/images/Screenshot 2025-04-05 at 7.12.25 PM.png (deflated 0%)\n",
            "  adding: content/train/images/istockphoto-1258121614-612x612.jpg (deflated 5%)\n",
            "  adding: content/train/images/Cell-Tower-1-A - Copy.jpg (deflated 3%)\n",
            "  adding: content/train/images/Screenshot 2025-04-05 at 7.04.44 PM.png (deflated 0%)\n",
            "  adding: content/train/images/Screenshot 2025-04-05 at 8.07.04 PM.png (deflated 0%)\n",
            "  adding: content/train/images/Screenshot 2025-04-05 at 8.13.28 PM.png (deflated 0%)\n",
            "  adding: content/train/images/Screenshot 2025-04-05 at 8.51.14 PM.png (deflated 0%)\n",
            "  adding: content/train/images/istockphoto-1460469411-612x612.jpg (deflated 5%)\n",
            "  adding: content/train/images/Screenshot 2025-04-05 at 7.00.16 PM.png (deflated 0%)\n",
            "  adding: content/train/images/Screenshot 2025-04-05 at 7.16.30 PM.png (deflated 0%)\n",
            "  adding: content/train/images/Screenshot 2025-04-05 at 7.17.40 PM.png (deflated 0%)\n",
            "  adding: content/train/images/Screenshot 2025-04-05 at 8.15.36 PM.png (deflated 0%)\n",
            "  adding: content/train/images/Screenshot 2025-04-05 at 8.52.57 PM.png (deflated 0%)\n",
            "  adding: content/train/images/Screenshot 2025-04-05 at 6.51.49 PM.png (deflated 0%)\n",
            "  adding: content/train/images/Screenshot 2025-04-05 at 8.47.27 PM.png (deflated 0%)\n",
            "  adding: content/train/images/Screenshot 2025-04-05 at 7.14.15 PM.png (deflated 0%)\n",
            "  adding: content/train/images/Screenshot 2025-04-05 at 6.45.37 PM.png (deflated 0%)\n",
            "  adding: content/train/images/Screenshot 2025-04-05 at 8.03.40 PM.png (deflated 0%)\n",
            "  adding: content/train/images/Eagle-nest-on-tower-reduced_Reese-Lukei-800x897.jpg (deflated 4%)\n",
            "  adding: content/train/images/Screenshot 2025-04-05 at 8.04.23 PM.png (deflated 0%)\n",
            "  adding: content/train/images/Screenshot 2025-04-05 at 8.49.36 PM.png (deflated 0%)\n",
            "  adding: content/train/images/56609de047188.image.jpg (deflated 0%)\n",
            "  adding: content/train/images/Screenshot 2025-04-05 at 7.15.18 PM.png (deflated 0%)\n",
            "  adding: content/train/images/Screenshot 2025-04-05 at 8.05.40 PM.png (deflated 0%)\n",
            "  adding: content/train/images/Screenshot 2025-04-05 at 8.46.55 PM.png (deflated 0%)\n",
            "  adding: content/train/images/Screenshot 2025-04-05 at 8.50.04 PM.png (deflated 0%)\n",
            "  adding: content/train/images/Screenshot 2025-04-05 at 8.04.58 PM.png (deflated 0%)\n",
            "  adding: content/train/images/Screenshot 2025-04-05 at 6.42.17 PM.png (deflated 0%)\n",
            "  adding: content/train/images/Screenshot 2025-04-05 at 7.14.06 PM.png (deflated 0%)\n",
            "  adding: content/train/images/Screenshot 2025-04-05 at 6.54.39 PM.png (deflated 0%)\n",
            "  adding: content/train/images/Screenshot 2025-04-05 at 8.06.37 PM.png (deflated 0%)\n",
            "  adding: content/train/images/Screenshot 2025-04-05 at 8.50.51 PM.png (deflated 0%)\n",
            "  adding: content/train/images/Screenshot 2025-04-05 at 6.59.20 PM.png (deflated 0%)\n",
            "  adding: content/train/images/Screenshot 2025-04-05 at 7.13.07 PM.png (deflated 0%)\n",
            "  adding: content/train/images/Screenshot 2025-04-05 at 6.41.18 PM.png (deflated 0%)\n",
            "  adding: content/train/images/istockphoto-1202367238-612x612.jpg (deflated 4%)\n",
            "  adding: content/train/images/Screenshot 2025-04-05 at 6.51.07 PM.png (deflated 0%)\n",
            "  adding: content/train/images/Screenshot 2025-04-05 at 7.16.08 PM.png (deflated 0%)\n",
            "  adding: content/train/images/Screenshot 2025-04-05 at 8.04.33 PM.png (deflated 0%)\n",
            "  adding: content/train/images/E7BFTECJMREZ3JNAT43BLCUNRI.jpg (deflated 1%)\n",
            "  adding: content/train/images/Screenshot 2025-04-05 at 8.45.33 PM.png (deflated 0%)\n",
            "  adding: content/train/images/white-storks-ciconia-nesting-on-a-cell-tower-ignoring-the-danger-of-radiation-2RBN4RY.jpg (deflated 2%)\n",
            "  adding: content/val/ (stored 0%)\n",
            "  adding: content/val/label/ (stored 0%)\n",
            "  adding: content/val/images/ (stored 0%)\n",
            "  adding: content/val/images/Screenshot 2025-04-05 at 7.17.06 PM.png (deflated 0%)\n",
            "  adding: content/val/images/Screenshot 2025-04-05 at 7.09.45 PM.png (deflated 0%)\n",
            "  adding: content/val/images/Screenshot 2025-04-05 at 8.46.07 PM.png (deflated 0%)\n",
            "  adding: content/val/images/Cell-Tower-1-A.jpg (deflated 3%)\n",
            "  adding: content/val/images/7054372577_22fb50db54_b.jpg (deflated 0%)\n",
            "  adding: content/val/images/Screenshot 2025-04-05 at 7.01.26 PM.png (deflated 0%)\n",
            "  adding: content/val/images/Screenshot 2025-04-05 at 8.08.10 PM.png (deflated 0%)\n",
            "  adding: content/val/images/Screenshot 2025-04-05 at 8.07.16 PM.png (deflated 0%)\n",
            "  adding: content/val/images/Screenshot 2025-04-05 at 7.13.27 PM.png (deflated 0%)\n",
            "  adding: content/val/images/Screenshot 2025-04-05 at 7.04.31 PM.png (deflated 0%)\n",
            "  adding: content/val/images/Screenshot 2025-04-05 at 7.01.52 PM.png (deflated 0%)\n",
            "  adding: content/val/images/photo-1646165627558-61738236ffe7.jpeg (deflated 1%)\n",
            "  adding: content/val/images/istockphoto-2178691370-612x612.jpg (deflated 2%)\n",
            "  adding: content/val/images/Screenshot 2025-04-05 at 6.52.39 PM.png (deflated 0%)\n",
            "  adding: content/val/images/Screenshot 2025-04-05 at 6.41.06 PM.png (deflated 0%)\n",
            "  adding: content/val/images/Cell-Tower-1-A - Copy.jpg (deflated 3%)\n",
            "  adding: content/val/images/Screenshot 2025-04-05 at 8.51.14 PM.png (deflated 0%)\n",
            "  adding: content/val/images/Screenshot 2025-04-05 at 8.47.27 PM.png (deflated 0%)\n",
            "  adding: content/val/images/Screenshot 2025-04-05 at 7.14.15 PM.png (deflated 0%)\n",
            "  adding: content/val/images/Screenshot 2025-04-05 at 8.46.55 PM.png (deflated 0%)\n",
            "  adding: content/val/images/Screenshot 2025-04-05 at 8.50.04 PM.png (deflated 0%)\n",
            "  adding: content/val/images/Screenshot 2025-04-05 at 6.41.18 PM.png (deflated 0%)\n",
            "  adding: content/val/images/istockphoto-1202367238-612x612.jpg (deflated 4%)\n"
          ]
        }
      ]
    },
    {
      "cell_type": "code",
      "source": [
        "from google.colab import files\n",
        "\n",
        "files.download(\"/content/train.zip\")\n",
        "files.download(\"/content/val.zip\")\n"
      ],
      "metadata": {
        "colab": {
          "base_uri": "https://localhost:8080/",
          "height": 17
        },
        "id": "ksrG3AjFs7PO",
        "outputId": "3fe9fccd-60c1-4a39-8d9a-c112db8ae0c1"
      },
      "execution_count": null,
      "outputs": [
        {
          "output_type": "display_data",
          "data": {
            "text/plain": [
              "<IPython.core.display.Javascript object>"
            ],
            "application/javascript": [
              "\n",
              "    async function download(id, filename, size) {\n",
              "      if (!google.colab.kernel.accessAllowed) {\n",
              "        return;\n",
              "      }\n",
              "      const div = document.createElement('div');\n",
              "      const label = document.createElement('label');\n",
              "      label.textContent = `Downloading \"${filename}\": `;\n",
              "      div.appendChild(label);\n",
              "      const progress = document.createElement('progress');\n",
              "      progress.max = size;\n",
              "      div.appendChild(progress);\n",
              "      document.body.appendChild(div);\n",
              "\n",
              "      const buffers = [];\n",
              "      let downloaded = 0;\n",
              "\n",
              "      const channel = await google.colab.kernel.comms.open(id);\n",
              "      // Send a message to notify the kernel that we're ready.\n",
              "      channel.send({})\n",
              "\n",
              "      for await (const message of channel.messages) {\n",
              "        // Send a message to notify the kernel that we're ready.\n",
              "        channel.send({})\n",
              "        if (message.buffers) {\n",
              "          for (const buffer of message.buffers) {\n",
              "            buffers.push(buffer);\n",
              "            downloaded += buffer.byteLength;\n",
              "            progress.value = downloaded;\n",
              "          }\n",
              "        }\n",
              "      }\n",
              "      const blob = new Blob(buffers, {type: 'application/binary'});\n",
              "      const a = document.createElement('a');\n",
              "      a.href = window.URL.createObjectURL(blob);\n",
              "      a.download = filename;\n",
              "      div.appendChild(a);\n",
              "      a.click();\n",
              "      div.remove();\n",
              "    }\n",
              "  "
            ]
          },
          "metadata": {}
        },
        {
          "output_type": "display_data",
          "data": {
            "text/plain": [
              "<IPython.core.display.Javascript object>"
            ],
            "application/javascript": [
              "download(\"download_4512156b-c1ef-498c-892a-cbb173b59bb6\", \"train.zip\", 60779440)"
            ]
          },
          "metadata": {}
        },
        {
          "output_type": "display_data",
          "data": {
            "text/plain": [
              "<IPython.core.display.Javascript object>"
            ],
            "application/javascript": [
              "\n",
              "    async function download(id, filename, size) {\n",
              "      if (!google.colab.kernel.accessAllowed) {\n",
              "        return;\n",
              "      }\n",
              "      const div = document.createElement('div');\n",
              "      const label = document.createElement('label');\n",
              "      label.textContent = `Downloading \"${filename}\": `;\n",
              "      div.appendChild(label);\n",
              "      const progress = document.createElement('progress');\n",
              "      progress.max = size;\n",
              "      div.appendChild(progress);\n",
              "      document.body.appendChild(div);\n",
              "\n",
              "      const buffers = [];\n",
              "      let downloaded = 0;\n",
              "\n",
              "      const channel = await google.colab.kernel.comms.open(id);\n",
              "      // Send a message to notify the kernel that we're ready.\n",
              "      channel.send({})\n",
              "\n",
              "      for await (const message of channel.messages) {\n",
              "        // Send a message to notify the kernel that we're ready.\n",
              "        channel.send({})\n",
              "        if (message.buffers) {\n",
              "          for (const buffer of message.buffers) {\n",
              "            buffers.push(buffer);\n",
              "            downloaded += buffer.byteLength;\n",
              "            progress.value = downloaded;\n",
              "          }\n",
              "        }\n",
              "      }\n",
              "      const blob = new Blob(buffers, {type: 'application/binary'});\n",
              "      const a = document.createElement('a');\n",
              "      a.href = window.URL.createObjectURL(blob);\n",
              "      a.download = filename;\n",
              "      div.appendChild(a);\n",
              "      a.click();\n",
              "      div.remove();\n",
              "    }\n",
              "  "
            ]
          },
          "metadata": {}
        },
        {
          "output_type": "display_data",
          "data": {
            "text/plain": [
              "<IPython.core.display.Javascript object>"
            ],
            "application/javascript": [
              "download(\"download_9a61c52c-2da6-40e2-b1c5-4ccf19b9fab7\", \"val.zip\", 11675133)"
            ]
          },
          "metadata": {}
        }
      ]
    },
    {
      "cell_type": "markdown",
      "source": [
        "There's one last step before we can run training: we need to create the Ultralytics training configuration YAML file. This file specifies the location of your train and validation data, and it also defines the model's classes. An example configuration file model is available [here](https://github.com/ultralytics/ultralytics/blob/main/ultralytics/cfg/datasets/coco128.yaml).\n",
        "\n",
        "Run the code block below to automatically generate a `data.yaml` configuration file. Make sure you have a labelmap file located at `custom_data/classes.txt`. If you used Label Studio or one of my pre-made datasets, it should already be present. If you assembled the dataset another way, you may have to manually create the `classes.txt` file (see [here](https://github.com/EdjeElectronics/Train-and-Deploy-YOLO-Models/blob/main/doc/classes.txt) for an example of how it's formatted)."
      ],
      "metadata": {
        "id": "0c5Kdh0GmQHS"
      }
    },
    {
      "cell_type": "code",
      "source": [
        "# Python function to automatically create data.yaml config file\n",
        "# 1. Reads \"classes.txt\" file to get list of class names\n",
        "# 2. Creates data dictionary with correct paths to folders, number of classes, and names of classes\n",
        "# 3. Writes data in YAML format to data.yaml\n",
        "\n",
        "import yaml\n",
        "import os\n",
        "\n",
        "def create_data_yaml(path_to_classes_txtt, path_to_data_yaml):\n",
        "\n",
        "  # Read class.txt to get class names\n",
        "  if not os.path.exists(path_to_classes_txt):\n",
        "    print(f'classes.txt file not found! Please create a classes.txt labelmap and move it to {path_to_classes_txt}')\n",
        "    return\n",
        "  with open(path_to_classes_txt, 'r') as f:\n",
        "    classes = []\n",
        "    for line in f.readlines():\n",
        "      if len(line.strip()) == 0: continue\n",
        "      classes.append(line.strip())\n",
        "  number_of_classes = len(classes)\n",
        "\n",
        "  # Create data dictionary\n",
        "  data = {\n",
        "      'path': '/content/data',\n",
        "      'train': 'train/images',\n",
        "      'val': 'validation/images',\n",
        "      'nc': number_of_classes,\n",
        "      'names': classes\n",
        "  }\n",
        "\n",
        "  # Write data to YAML file\n",
        "  with open(path_to_data_yaml, 'w') as f:\n",
        "    yaml.dump(data, f, sort_keys=False)\n",
        "  print(f'Created config file at {path_to_data_yaml}')\n",
        "\n",
        "  return\n",
        "\n",
        "# Define path to classes.txt and run function\n",
        "path_to_classes_txt = '/content/custom_data/custom_data/classes.txt'\n",
        "path_to_data_yaml = '/content/data.yaml'\n",
        "\n",
        "create_data_yaml(path_to_classes_txt, path_to_data_yaml)\n",
        "\n",
        "print('\\nFile contents:\\n')\n",
        "!cat /content/data.yaml"
      ],
      "metadata": {
        "id": "4letvP7X12ji",
        "colab": {
          "base_uri": "https://localhost:8080/"
        },
        "outputId": "c806c3be-7cfb-4a5b-f13d-3b2e282a69a5"
      },
      "execution_count": null,
      "outputs": [
        {
          "output_type": "stream",
          "name": "stdout",
          "text": [
            "Created config file at /content/data.yaml\n",
            "\n",
            "File contents:\n",
            "\n",
            "path: /content/data\n",
            "train: train/images\n",
            "val: validation/images\n",
            "nc: 12\n",
            "names:\n",
            "- GSM Antenna\n",
            "- Microwave Antenna\n",
            "- Antenna\n",
            "- Lattice\n",
            "- M Type Tower\n",
            "- Birdnest\n",
            "- Rust\n",
            "- Guyed\n",
            "- Fire\n",
            "- Snow\n",
            "- Person\n",
            "- Tower Breakage\n"
          ]
        }
      ]
    }
  ],
  "metadata": {
    "accelerator": "GPU",
    "colab": {
      "gpuType": "T4",
      "provenance": []
    },
    "kernelspec": {
      "display_name": "Python 3",
      "name": "python3"
    },
    "language_info": {
      "name": "python"
    }
  },
  "nbformat": 4,
  "nbformat_minor": 0
}